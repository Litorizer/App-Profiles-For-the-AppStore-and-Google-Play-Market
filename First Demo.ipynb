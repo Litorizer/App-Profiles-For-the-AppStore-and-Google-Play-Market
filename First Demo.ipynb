{
 "cells": [
  {
   "cell_type": "markdown",
   "metadata": {
    "collapsed": true
   },
   "source": [
    "# Profitable App Profiles for The App Store and Google Play Markets\n",
    "\n",
    "We will be analyzing data of free-to-download apps to conclude which type of apps are likely to attract more users\n"
   ]
  },
  {
   "cell_type": "code",
   "execution_count": null,
   "metadata": {
    "collapsed": false
   },
   "outputs": [],
   "source": [
    "from csv import reader\n",
    "\n",
    "# Google Play Market Data Set\n",
    "opened_file=open('googleplaystore.csv', encoding='utf8')\n",
    "read_file=reader(opened_file)\n",
    "android = list(read_file)\n",
    "android_header=android[0]\n",
    "android=android[1:]\n",
    "\n",
    "# Apple Store Data Set\n",
    "opened_file=open('AppleStore.csv', encoding='utf8')\n",
    "read_file=reader(opened_file)\n",
    "ios=list(read_file)\n",
    "ios_header=ios[0]\n",
    "ios=ios[1:]\n"
   ]
  },
  {
   "cell_type": "code",
   "execution_count": null,
   "metadata": {
    "collapsed": true
   },
   "outputs": [],
   "source": [
    "def explore_data(dataset, start, end, rows_and_columns=False):\n",
    "    dataset_slice = dataset[start:end]    \n",
    "    for row in dataset_slice:\n",
    "        print(row)\n",
    "        print('\\n') # adds an empty line after each row\n",
    "\n",
    "    if rows_and_columns:\n",
    "        print('Number of rows:', len(dataset))\n",
    "        print('Number of columns:', len(dataset[0]))"
   ]
  },
  {
   "cell_type": "code",
   "execution_count": null,
   "metadata": {
    "collapsed": false
   },
   "outputs": [],
   "source": [
    "# Code below will print out rows, essentially data of apps\n",
    "\n",
    "# Google Play Market\n",
    "explore_data(android,1,-1)\n",
    "\n",
    "# Apple Store\n",
    "explore_data(ios,1,-1)"
   ]
  },
  {
   "cell_type": "code",
   "execution_count": null,
   "metadata": {
    "collapsed": false
   },
   "outputs": [],
   "source": [
    "# Code below will print number of rows and columns\n",
    "\n",
    "# of Google PLay Store\n",
    "print('Google Play store : number of rows & columns')\n",
    "explore_data(android,0,0,True)\n",
    "\n",
    "print('\\n')\n",
    "\n",
    "# of App Store\n",
    "print('Apple Store : number of rows & columns')\n",
    "explore_data(ios,0,0,True)"
   ]
  },
  {
   "cell_type": "markdown",
   "metadata": {},
   "source": [
    "If you are having problem with what columns describe, click [here](https://www.kaggle.com/ramamet4/app-store-apple-data-set-10k-apps/discussion)"
   ]
  },
  {
   "cell_type": "code",
   "execution_count": null,
   "metadata": {
    "collapsed": true
   },
   "outputs": [],
   "source": []
  }
 ],
 "metadata": {
  "kernelspec": {
   "display_name": "Python 3",
   "language": "python",
   "name": "python3"
  },
  "language_info": {
   "codemirror_mode": {
    "name": "ipython",
    "version": 3
   },
   "file_extension": ".py",
   "mimetype": "text/x-python",
   "name": "python",
   "nbconvert_exporter": "python",
   "pygments_lexer": "ipython3",
   "version": "3.4.3"
  }
 },
 "nbformat": 4,
 "nbformat_minor": 2
}
